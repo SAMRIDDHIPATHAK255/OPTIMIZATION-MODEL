{
 "cells": [
  {
   "cell_type": "markdown",
   "id": "824ac3bb",
   "metadata": {},
   "source": [
    "# 🧁 Bakery Optimization Problem with PuLP\n",
    "\n",
    "This notebook demonstrates how to solve a real-world **bakery production optimization** problem using linear programming with the `PuLP` library in Python.\n",
    "\n",
    "### 🧠 Problem Statement:\n",
    "A bakery produces:\n",
    "- **Bowdoin Logs**\n",
    "- **Chocolate Cakes**\n",
    "\n",
    "**Resources and Constraints:**\n",
    "- Oven time: 5 min/log, 1 min/cake → max 90 min\n",
    "- Food Processor time: 1 min/log, 10 min/cake → max 300 min\n",
    "- Boiler time: 4 min/log, 6 min/cake → max 125 min\n",
    "\n",
    "**Profit:**\n",
    "- Bowdoin Log: $10\n",
    "- Chocolate Cake: $5\n",
    "\n",
    "### 🎯 Objective:\n",
    "Maximize profit while staying within resource constraints."
   ]
  },
  {
   "cell_type": "code",
   "execution_count": null,
   "id": "d0225030",
   "metadata": {},
   "outputs": [],
   "source": [
    "from pulp import LpProblem, LpVariable, LpMaximize, value, PULP_CBC_CMD"
   ]
  },
  {
   "cell_type": "code",
   "execution_count": null,
   "id": "42699fa6",
   "metadata": {},
   "outputs": [],
   "source": [
    "# Define the problem\n",
    "lp = LpProblem(\"Bakery_Problem\", LpMaximize)"
   ]
  },
  {
   "cell_type": "code",
   "execution_count": null,
   "id": "b41ce66b",
   "metadata": {},
   "outputs": [],
   "source": [
    "# Decision Variables\n",
    "x1 = LpVariable(name=\"Bowdoin_log\", lowBound=0, cat=\"Integer\")\n",
    "x2 = LpVariable(name=\"Chocolate_cake\", lowBound=0, cat=\"Integer\")"
   ]
  },
  {
   "cell_type": "code",
   "execution_count": null,
   "id": "1bae7969",
   "metadata": {},
   "outputs": [],
   "source": [
    "# Objective Function\n",
    "lp += 10*x1 + 5*x2"
   ]
  },
  {
   "cell_type": "code",
   "execution_count": null,
   "id": "8a1932f0",
   "metadata": {},
   "outputs": [],
   "source": [
    "print(lp.objective)"
   ]
  },
  {
   "cell_type": "code",
   "execution_count": null,
   "id": "40d8d8a8",
   "metadata": {},
   "outputs": [],
   "source": [
    "# Constraints\n",
    "lp += (5*x1 + x2 <= 90, \"oven_constraint\")\n",
    "lp += (x1 + 10*x2 <= 300, \"food_processor_constraint\")\n",
    "lp += (4*x1 + 6*x2 <= 125, \"boiler_constraint\")"
   ]
  },
  {
   "cell_type": "code",
   "execution_count": null,
   "id": "3e10267f",
   "metadata": {},
   "outputs": [],
   "source": [
    "print(lp.constraints)"
   ]
  },
  {
   "cell_type": "code",
   "execution_count": null,
   "id": "dcd51dee",
   "metadata": {},
   "outputs": [],
   "source": [
    "# Solve the problem\n",
    "status = lp.solve(PULP_CBC_CMD(msg=0))"
   ]
  },
  {
   "cell_type": "code",
   "execution_count": null,
   "id": "5b62d4d3",
   "metadata": {},
   "outputs": [],
   "source": [
    "print(\"Status:\", status)\n",
    "\n",
    "# Output the solution\n",
    "for var in lp.variables():\n",
    "    print(var, \"=\", value(var))\n",
    "print(\"OPT =\", value(lp.objective))"
   ]
  },
  {
   "cell_type": "markdown",
   "id": "aea92f5a",
   "metadata": {},
   "source": [
    "## 🔍 Insights\n",
    "- This optimization shows how many **Bowdoin logs** and **Chocolate cakes** the bakery should produce to maximize profit.\n",
    "- Constraints help allocate limited resources (oven, processor, boiler) effectively.\n",
    "- Integer programming ensures results are realistic (no partial cakes!)."
   ]
  }
 ],
 "metadata": {
  "kernelspec": {
   "display_name": "Python 3 (ipykernel)",
   "language": "python",
   "name": "python3"
  },
  "language_info": {
   "codemirror_mode": {
    "name": "ipython",
    "version": 3
   },
   "file_extension": ".py",
   "mimetype": "text/x-python",
   "name": "python",
   "nbconvert_exporter": "python",
   "pygments_lexer": "ipython3",
   "version": "3.12.3"
  }
 },
 "nbformat": 4,
 "nbformat_minor": 5
}
